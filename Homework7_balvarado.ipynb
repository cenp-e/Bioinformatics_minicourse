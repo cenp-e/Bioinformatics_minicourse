{
 "cells": [
  {
   "cell_type": "code",
   "execution_count": null,
   "metadata": {
    "collapsed": true,
    "deletable": true,
    "editable": true
   },
   "outputs": [],
   "source": []
  },
  {
   "cell_type": "code",
   "execution_count": 13,
   "metadata": {
    "collapsed": true,
    "deletable": true,
    "editable": true
   },
   "outputs": [],
   "source": [
    "import numpy as np\n",
    "import pandas as pd"
   ]
  },
  {
   "cell_type": "code",
   "execution_count": 14,
   "metadata": {
    "collapsed": true,
    "deletable": true,
    "editable": true
   },
   "outputs": [],
   "source": [
    "scmatrix= {'A': {'A': -1, 'C': -1, 'G': -1, 'T': 1},\n",
    " 'C': {'A': -1, 'C': -1, 'G': 1, 'T': -1},\n",
    " 'G': {'A': -1, 'C': 1, 'G': -1, 'T': -1},\n",
    " 'T': {'A': 1, 'C': -1, 'G': -1, 'T': -1}}"
   ]
  },
  {
   "cell_type": "code",
   "execution_count": 16,
   "metadata": {
    "collapsed": false,
    "deletable": true,
    "editable": true
   },
   "outputs": [],
   "source": [
    "mis= -1\n",
    "match= 1\n",
    "arrayscore= {'A': {'A': mis, 'C': mis, 'G': mis, 'T': match},\n",
    " 'C': {'A': mis, 'C': mis, 'G': match, 'T': mis},\n",
    " 'G': {'A': mis, 'C': match, 'G': mis, 'T': mis},\n",
    " 'T': {'A': match, 'C': mis, 'G': mis, 'T': mis}}"
   ]
  },
  {
   "cell_type": "code",
   "execution_count": 17,
   "metadata": {
    "collapsed": false,
    "deletable": true,
    "editable": true
   },
   "outputs": [
    {
     "data": {
      "text/plain": [
       "-1"
      ]
     },
     "execution_count": 17,
     "metadata": {},
     "output_type": "execute_result"
    }
   ],
   "source": [
    "x=\"ACTTC\"\n",
    "y=\"TCAGT\"\n",
    "arrayscore[x[1]][y[0]]"
   ]
  },
  {
   "cell_type": "code",
   "execution_count": 211,
   "metadata": {
    "collapsed": false,
    "deletable": true,
    "editable": true
   },
   "outputs": [],
   "source": [
    "\n",
    "#make matrix\n",
    "def setmatrix(x,y):\n",
    "    \n",
    "    lx=len(x)\n",
    "    ly=len(y)\n",
    "    m= [0]*lx\n",
    "    return m\n"
   ]
  },
  {
   "cell_type": "code",
   "execution_count": 212,
   "metadata": {
    "collapsed": false,
    "deletable": true,
    "editable": true
   },
   "outputs": [
    {
     "data": {
      "text/plain": [
       "[0, 0, 0, 0, 0]"
      ]
     },
     "execution_count": 212,
     "metadata": {},
     "output_type": "execute_result"
    }
   ],
   "source": [
    "setmatrix(\"ATTCC\", \"ATG\")"
   ]
  },
  {
   "cell_type": "code",
   "execution_count": 226,
   "metadata": {
    "collapsed": false,
    "deletable": true,
    "editable": true
   },
   "outputs": [],
   "source": [
    "# Calculate score for alignment\n",
    "\n",
    "def score(x,y):\n",
    "    s=0\n",
    "    for i, j in zip(x,y):\n",
    "        if i == \"-\" or j ==\"-\":\n",
    "            s +=0\n",
    "        else: \n",
    "            s+= scmatrix[i][j]\n",
    "       \n",
    "    return s\n",
    "            "
   ]
  },
  {
   "cell_type": "code",
   "execution_count": 237,
   "metadata": {
    "collapsed": false,
    "deletable": true,
    "editable": true
   },
   "outputs": [],
   "source": [
    "\n",
    "        "
   ]
  },
  {
   "cell_type": "code",
   "execution_count": 284,
   "metadata": {
    "collapsed": true,
    "deletable": true,
    "editable": true
   },
   "outputs": [],
   "source": [
    "x=\"ACTTC\"\n",
    "y=\"TCAGT\""
   ]
  },
  {
   "cell_type": "code",
   "execution_count": null,
   "metadata": {
    "collapsed": false,
    "deletable": true,
    "editable": true
   },
   "outputs": [],
   "source": []
  },
  {
   "cell_type": "code",
   "execution_count": 5,
   "metadata": {
    "collapsed": false,
    "deletable": true,
    "editable": true
   },
   "outputs": [],
   "source": [
    "def makemtx(x,y):\n",
    "    rows=len(x)+1\n",
    "    cols=len(y)+1\n",
    "    m=[]\n",
    "    \n",
    "   \n",
    "    for i in range(rows):\n",
    "        m += [[0]*cols]\n",
    "    for i in range(rows):\n",
    "        m[i][0] =-i\n",
    "    for j in range(cols):\n",
    "         m[0][j] =-j\n",
    "    return m"
   ]
  },
  {
   "cell_type": "code",
   "execution_count": 398,
   "metadata": {
    "collapsed": false,
    "deletable": true,
    "editable": true
   },
   "outputs": [
    {
     "data": {
      "text/plain": [
       "[[0, -1, -2, -3, -4, -5],\n",
       " [-1, 0, 0, 0, 0, 0],\n",
       " [-2, 0, 0, 0, 0, 0],\n",
       " [-3, 0, 0, 0, 0, 0],\n",
       " [-4, 0, 0, 0, 0, 0],\n",
       " [-5, 0, 0, 0, 0, 0]]"
      ]
     },
     "execution_count": 398,
     "metadata": {},
     "output_type": "execute_result"
    }
   ],
   "source": [
    "makemtx(x,y)\n",
    "#fixed initialized matrix"
   ]
  },
  {
   "cell_type": "code",
   "execution_count": 18,
   "metadata": {
    "collapsed": false,
    "deletable": true,
    "editable": true
   },
   "outputs": [],
   "source": [
    "def eekdynarray(x,y):\n",
    "    #get initialized matrix\n",
    "    m= makemtx(x,y)\n",
    "    rows=len(x)+1\n",
    "    cols=len(y)+1\n",
    "    gap=-1\n",
    "    #find score for each box in each row\n",
    "    for i in range(1 , rows):\n",
    "        for j in range(1, cols):\n",
    "        #lay out the choices you can choose from\n",
    "            num1=m[i][j-1]+gap\n",
    "            #print(num1)\n",
    "            num2= m[i][j-1]+gap\n",
    "            #print(num2)\n",
    "            #print(arrayscore[x[i]][y[j]])\n",
    "            num3= (arrayscore[x[i-1]][y[j-1]])+m[i-1][j-1]\n",
    "            #print(num3)\n",
    "            m[i][j]= max(num1, num2, num3)\n",
    "    return m\n",
    "        # chose the best score for that box "
   ]
  },
  {
   "cell_type": "code",
   "execution_count": 19,
   "metadata": {
    "collapsed": true,
    "deletable": true,
    "editable": true
   },
   "outputs": [],
   "source": [
    "x=\"AGTTC\"\n",
    "y=\"TCAGT\"\n"
   ]
  },
  {
   "cell_type": "code",
   "execution_count": 20,
   "metadata": {
    "collapsed": false,
    "deletable": true,
    "editable": true
   },
   "outputs": [
    {
     "data": {
      "text/plain": [
       "[[0, -1, -2, -3, -4, -5],\n",
       " [-1, 1, 0, -1, -2, -3],\n",
       " [-2, -2, 2, 1, 0, -1],\n",
       " [-3, -3, -3, 3, 2, 1],\n",
       " [-4, -4, -4, -2, 2, 1],\n",
       " [-5, -5, -5, -5, -1, 1]]"
      ]
     },
     "execution_count": 20,
     "metadata": {},
     "output_type": "execute_result"
    }
   ],
   "source": [
    "eekdynarray(x,y)"
   ]
  },
  {
   "cell_type": "code",
   "execution_count": null,
   "metadata": {
    "collapsed": true,
    "deletable": true,
    "editable": true
   },
   "outputs": [],
   "source": []
  },
  {
   "cell_type": "code",
   "execution_count": 23,
   "metadata": {
    "collapsed": false,
    "deletable": true,
    "editable": true
   },
   "outputs": [],
   "source": [
    "def eekdynarray(x,y):\n",
    "    #get initialized matrix\n",
    "    m= makemtx(x,y)\n",
    "    rows=len(x)+1\n",
    "    cols=len(y)+1\n",
    "    gap=-1\n",
    "    #find score for each box in each row\n",
    "    for i in range(1 , rows):\n",
    "        for j in range(1, cols):\n",
    "        #lay out the choices you can choose from\n",
    "            num1=m[i][j-1]+gap\n",
    "            #print(num1)\n",
    "            num2= m[i][j-1]+gap\n",
    "            #print(num2)\n",
    "            #print(arrayscore[x[i]][y[j]])\n",
    "            num3= (arrayscore[x[i-1]][y[j-1]])+m[i-1][j-1]\n",
    "            #print(num3)\n",
    "            m[i][j]= max(num1, num2, num3)\n",
    "        #start at the bottom right corner and move up with score    \n",
    "        while i >0 and j>0:\n",
    "            score=0\n",
    "            scr_now = m[i][j]\n",
    "            scr_diag = m[i-1][j-1]\n",
    "            scr_left = m[i][j-1]\n",
    "            scr_up = m[i-1][j]\n",
    "            if scr_now < scr_diag:\n",
    "            \n",
    "        \n",
    "        print('scr_current: ',scr_current)\n",
    "        print('scr_diag: ',scr_diag)\n",
    "        print('scr_left: ',scr_left)\n",
    "        print('scr_up: ',scr_up)\n",
    "        \n",
    "    return m\n",
    "#m[i][j]= max(num1, num2, num3)"
   ]
  },
  {
   "cell_type": "code",
   "execution_count": 24,
   "metadata": {
    "collapsed": false,
    "deletable": true,
    "editable": true
   },
   "outputs": [
    {
     "ename": "KeyboardInterrupt",
     "evalue": "",
     "output_type": "error",
     "traceback": [
      "\u001b[0;31m---------------------------------------------------------------------------\u001b[0m",
      "\u001b[0;31mKeyboardInterrupt\u001b[0m                         Traceback (most recent call last)",
      "\u001b[0;32m<ipython-input-24-928a4ff840ca>\u001b[0m in \u001b[0;36m<module>\u001b[0;34m()\u001b[0m\n\u001b[0;32m----> 1\u001b[0;31m \u001b[0meekdynarray\u001b[0m\u001b[0;34m(\u001b[0m\u001b[0mx\u001b[0m\u001b[0;34m,\u001b[0m\u001b[0my\u001b[0m\u001b[0;34m)\u001b[0m\u001b[0;34m\u001b[0m\u001b[0m\n\u001b[0m",
      "\u001b[0;32m<ipython-input-23-2308e5fdeb90>\u001b[0m in \u001b[0;36meekdynarray\u001b[0;34m(x, y)\u001b[0m\n\u001b[1;32m     20\u001b[0m             \u001b[0mscr_now\u001b[0m \u001b[0;34m=\u001b[0m \u001b[0mm\u001b[0m\u001b[0;34m[\u001b[0m\u001b[0mi\u001b[0m\u001b[0;34m]\u001b[0m\u001b[0;34m[\u001b[0m\u001b[0mj\u001b[0m\u001b[0;34m]\u001b[0m\u001b[0;34m\u001b[0m\u001b[0m\n\u001b[1;32m     21\u001b[0m             \u001b[0mscr_diag\u001b[0m \u001b[0;34m=\u001b[0m \u001b[0mm\u001b[0m\u001b[0;34m[\u001b[0m\u001b[0mi\u001b[0m\u001b[0;34m-\u001b[0m\u001b[0;36m1\u001b[0m\u001b[0;34m]\u001b[0m\u001b[0;34m[\u001b[0m\u001b[0mj\u001b[0m\u001b[0;34m-\u001b[0m\u001b[0;36m1\u001b[0m\u001b[0;34m]\u001b[0m\u001b[0;34m\u001b[0m\u001b[0m\n\u001b[0;32m---> 22\u001b[0;31m             \u001b[0mscr_left\u001b[0m \u001b[0;34m=\u001b[0m \u001b[0mm\u001b[0m\u001b[0;34m[\u001b[0m\u001b[0mi\u001b[0m\u001b[0;34m]\u001b[0m\u001b[0;34m[\u001b[0m\u001b[0mj\u001b[0m\u001b[0;34m-\u001b[0m\u001b[0;36m1\u001b[0m\u001b[0;34m]\u001b[0m\u001b[0;34m\u001b[0m\u001b[0m\n\u001b[0m\u001b[1;32m     23\u001b[0m             \u001b[0mscr_up\u001b[0m \u001b[0;34m=\u001b[0m \u001b[0mm\u001b[0m\u001b[0;34m[\u001b[0m\u001b[0mi\u001b[0m\u001b[0;34m-\u001b[0m\u001b[0;36m1\u001b[0m\u001b[0;34m]\u001b[0m\u001b[0;34m[\u001b[0m\u001b[0mj\u001b[0m\u001b[0;34m]\u001b[0m\u001b[0;34m\u001b[0m\u001b[0m\n\u001b[1;32m     24\u001b[0m \u001b[0;34m\u001b[0m\u001b[0m\n",
      "\u001b[0;31mKeyboardInterrupt\u001b[0m: "
     ]
    }
   ],
   "source": [
    "eekdynarray(x,y)"
   ]
  },
  {
   "cell_type": "code",
   "execution_count": null,
   "metadata": {
    "collapsed": true,
    "deletable": true,
    "editable": true
   },
   "outputs": [],
   "source": [
    "#backtrace on separate function or eekdynarry????"
   ]
  },
  {
   "cell_type": "code",
   "execution_count": null,
   "metadata": {
    "collapsed": false,
    "deletable": true,
    "editable": true
   },
   "outputs": [],
   "source": [
    "def baktraceofdoom(x,y):\n",
    "    mymatx= eekdynarray(x,y)\n",
    "    rows=len(x)+1\n",
    "    cols=len(y)+1\n",
    "   \n",
    "    \n",
    "    return mymatx"
   ]
  },
  {
   "cell_type": "code",
   "execution_count": null,
   "metadata": {
    "collapsed": false,
    "deletable": true,
    "editable": true
   },
   "outputs": [],
   "source": [
    "baktraceofdoom(x,y)"
   ]
  },
  {
   "cell_type": "code",
   "execution_count": null,
   "metadata": {
    "collapsed": true,
    "deletable": true,
    "editable": true
   },
   "outputs": [],
   "source": []
  },
  {
   "cell_type": "code",
   "execution_count": null,
   "metadata": {
    "collapsed": true,
    "deletable": true,
    "editable": true
   },
   "outputs": [],
   "source": []
  },
  {
   "cell_type": "code",
   "execution_count": null,
   "metadata": {
    "collapsed": true,
    "deletable": true,
    "editable": true
   },
   "outputs": [],
   "source": []
  },
  {
   "cell_type": "code",
   "execution_count": null,
   "metadata": {
    "collapsed": true,
    "deletable": true,
    "editable": true
   },
   "outputs": [],
   "source": []
  },
  {
   "cell_type": "code",
   "execution_count": null,
   "metadata": {
    "collapsed": true,
    "deletable": true,
    "editable": true
   },
   "outputs": [],
   "source": []
  },
  {
   "cell_type": "code",
   "execution_count": null,
   "metadata": {
    "collapsed": true,
    "deletable": true,
    "editable": true
   },
   "outputs": [],
   "source": []
  },
  {
   "cell_type": "code",
   "execution_count": null,
   "metadata": {
    "collapsed": true,
    "deletable": true,
    "editable": true
   },
   "outputs": [],
   "source": []
  },
  {
   "cell_type": "code",
   "execution_count": null,
   "metadata": {
    "collapsed": true,
    "deletable": true,
    "editable": true
   },
   "outputs": [],
   "source": []
  },
  {
   "cell_type": "code",
   "execution_count": null,
   "metadata": {
    "collapsed": false,
    "deletable": true,
    "editable": true
   },
   "outputs": [],
   "source": []
  },
  {
   "cell_type": "code",
   "execution_count": 248,
   "metadata": {
    "collapsed": true,
    "deletable": true,
    "editable": true
   },
   "outputs": [],
   "source": [
    "x=\"ATTATATGGAGAG\"\n",
    "y=\"CAATATAGG\""
   ]
  },
  {
   "cell_type": "code",
   "execution_count": 86,
   "metadata": {
    "collapsed": false,
    "deletable": true,
    "editable": true
   },
   "outputs": [],
   "source": [
    "#\n",
    "def alignment(x,y,i):\n",
    "    if (i>0):\n",
    "        x= \"-\"*(-i)+y\n",
    "        \n",
    "    elif(i<0):\n",
    "        y = \"-\"*(-i)+y\n",
    "    print(y)\n",
    "    L= len(y)- len(x)\n",
    "    print(L)\n",
    "    if (L>0):\n",
    "        x+= \"-\"*L\n",
    "        #print(x)\n",
    "    elif(L<0):\n",
    "        y+= \"-\"*(-L)\n",
    "    return x,y"
   ]
  },
  {
   "cell_type": "code",
   "execution_count": 87,
   "metadata": {
    "collapsed": false,
    "deletable": true,
    "editable": true
   },
   "outputs": [
    {
     "name": "stdout",
     "output_type": "stream",
     "text": [
      "-CAATATAGG\n",
      "-3\n",
      "13\n",
      "9\n"
     ]
    }
   ],
   "source": [
    "alignment(x,y,-1)\n",
    "print(len(x))\n",
    "print(len(y))"
   ]
  },
  {
   "cell_type": "code",
   "execution_count": null,
   "metadata": {
    "collapsed": false,
    "deletable": true,
    "editable": true
   },
   "outputs": [],
   "source": []
  },
  {
   "cell_type": "code",
   "execution_count": null,
   "metadata": {
    "collapsed": true,
    "deletable": true,
    "editable": true
   },
   "outputs": [],
   "source": []
  },
  {
   "cell_type": "code",
   "execution_count": 92,
   "metadata": {
    "collapsed": true,
    "deletable": true,
    "editable": true
   },
   "outputs": [],
   "source": [
    "\n",
    "    "
   ]
  },
  {
   "cell_type": "code",
   "execution_count": null,
   "metadata": {
    "collapsed": false,
    "deletable": true,
    "editable": true
   },
   "outputs": [],
   "source": []
  },
  {
   "cell_type": "code",
   "execution_count": null,
   "metadata": {
    "collapsed": true,
    "deletable": true,
    "editable": true
   },
   "outputs": [],
   "source": []
  },
  {
   "cell_type": "code",
   "execution_count": null,
   "metadata": {
    "collapsed": true,
    "deletable": true,
    "editable": true
   },
   "outputs": [],
   "source": []
  },
  {
   "cell_type": "code",
   "execution_count": null,
   "metadata": {
    "collapsed": true,
    "deletable": true,
    "editable": true
   },
   "outputs": [],
   "source": []
  }
 ],
 "metadata": {
  "kernelspec": {
   "display_name": "Python 3",
   "language": "python",
   "name": "python3"
  },
  "language_info": {
   "codemirror_mode": {
    "name": "ipython",
    "version": 3
   },
   "file_extension": ".py",
   "mimetype": "text/x-python",
   "name": "python",
   "nbconvert_exporter": "python",
   "pygments_lexer": "ipython3",
   "version": "3.5.2"
  }
 },
 "nbformat": 4,
 "nbformat_minor": 2
}
